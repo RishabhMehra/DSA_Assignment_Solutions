{
  "nbformat": 4,
  "nbformat_minor": 0,
  "metadata": {
    "colab": {
      "name": "Triplet_Sum.ipynb",
      "provenance": [],
      "authorship_tag": "ABX9TyOiVfloiLprNnTnJNZA943o",
      "include_colab_link": true
    },
    "kernelspec": {
      "name": "python3",
      "display_name": "Python 3"
    },
    "language_info": {
      "name": "python"
    }
  },
  "cells": [
    {
      "cell_type": "markdown",
      "metadata": {
        "id": "view-in-github",
        "colab_type": "text"
      },
      "source": [
        "<a href=\"https://colab.research.google.com/github/RishabhMehra/DSA_Assignment_Solutions/blob/main/%5CAssignment_4%5CTriplet_Sum.ipynb\" target=\"_parent\"><img src=\"https://colab.research.google.com/assets/colab-badge.svg\" alt=\"Open In Colab\"/></a>"
      ]
    },
    {
      "cell_type": "code",
      "metadata": {
        "id": "0COcb0_RAdgY"
      },
      "source": [
        "class Solution:\n",
        "    def tripletsum(self,arr,k):\n",
        "        max_sum = float('-inf')\n",
        "        arr.sort()\n",
        "        if len(arr)==3:\n",
        "            return sum(arr)\n",
        "        for i in range(len(arr)-2):\n",
        "            left_ptr =i+1\n",
        "            right_ptr = len(arr)-1\n",
        "            \n",
        "            while(left_ptr<right_ptr):\n",
        "                sum1 = arr[i]+arr[left_ptr]+arr[right_ptr]\n",
        "                if (abs(sum1-k)<abs(max_sum-k)):\n",
        "                    max_sum = sum1\n",
        "                if sum1<k :\n",
        "                    left_ptr+=1\n",
        "                elif sum1 > k :\n",
        "                    right_ptr-=1\n",
        "                if sum1==k: return k\n",
        "        return max_sum\n",
        "\n",
        "    def threeSumClosest(self, nums, target):\n",
        "        return abs(self.tripletsum(nums,target)-target)\n",
        "        "
      ],
      "execution_count": 46,
      "outputs": []
    },
    {
      "cell_type": "code",
      "metadata": {
        "colab": {
          "base_uri": "https://localhost:8080/"
        },
        "id": "trFNyyR7hZn8",
        "outputId": "e841198c-ce9b-4282-e548-f625dc21c567"
      },
      "source": [
        "#Driver code\n",
        "s =Solution()\n",
        "k = int(input())\n",
        "for i in range(k):\n",
        "  n = int(input())\n",
        "  arr=[]*n\n",
        "  arr = list(map(int,input().split()))\n",
        "  target = int(input())\n",
        "  print(s.threeSumClosest(arr,target))\n",
        "\n",
        "\n",
        "#1\n",
        "#5\n",
        "#1 2 5 9 12\n",
        "#15"
      ],
      "execution_count": 53,
      "outputs": [
        {
          "output_type": "stream",
          "text": [
            "1\n",
            "5\n",
            "1 2 5 9 12\n",
            "15\n",
            "0\n"
          ],
          "name": "stdout"
        }
      ]
    },
    {
      "cell_type": "code",
      "metadata": {
        "id": "FABpXltthxvh"
      },
      "source": [
        ""
      ],
      "execution_count": null,
      "outputs": []
    }
  ]
}
