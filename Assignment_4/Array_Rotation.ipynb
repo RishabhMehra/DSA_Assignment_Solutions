{
  "nbformat": 4,
  "nbformat_minor": 0,
  "metadata": {
    "colab": {
      "name": "Array_Rotation",
      "provenance": [],
      "collapsed_sections": [],
      "authorship_tag": "ABX9TyMNZHveYUoCNsHXbCiJ4TPW",
      "include_colab_link": true
    },
    "kernelspec": {
      "name": "python3",
      "display_name": "Python 3"
    },
    "language_info": {
      "name": "python"
    }
  },
  "cells": [
    {
      "cell_type": "markdown",
      "metadata": {
        "id": "view-in-github",
        "colab_type": "text"
      },
      "source": [
        "<a href=\"https://colab.research.google.com/github/RishabhMehra/DSA_Assignment_Solutions/blob/main/Assignment_4/Array_Rotation.ipynb\" target=\"_parent\"><img src=\"https://colab.research.google.com/assets/colab-badge.svg\" alt=\"Open In Colab\"/></a>"
      ]
    },
    {
      "cell_type": "code",
      "metadata": {
        "id": "HuM0zUZNonlJ"
      },
      "source": [
        "class solution:\n",
        "  def rightRotate(self,arr,k):\n",
        "    return (arr[-k:] +arr[:-k])\n",
        "  def __init__(self):\n",
        "    N = int(input())\n",
        "    for i in range(N):\n",
        "      size, k = list(input().split())\n",
        "      arr=[]*size\n",
        "      arr = list(input().split())\n",
        "      arr =[int(i) for i in arr]\n",
        "      print(self.rightRotate(arr,int(k)))\n"
      ],
      "execution_count": 1,
      "outputs": []
    },
    {
      "cell_type": "code",
      "metadata": {
        "colab": {
          "base_uri": "https://localhost:8080/"
        },
        "id": "e_GhTQJBroHi",
        "outputId": "6350583b-4975-4e0c-ac17-e5fc0a49d65c"
      },
      "source": [
        "sol = solution()"
      ],
      "execution_count": 2,
      "outputs": [
        {
          "output_type": "stream",
          "text": [
            "1\n",
            "5 3\n",
            "99 88 77 66 55 44\n",
            "[66, 55, 44, 99, 88, 77]\n"
          ],
          "name": "stdout"
        }
      ]
    },
    {
      "cell_type": "code",
      "metadata": {
        "id": "62oide70rrHj"
      },
      "source": [
        ""
      ],
      "execution_count": null,
      "outputs": []
    }
  ]
}