{
  "nbformat": 4,
  "nbformat_minor": 0,
  "metadata": {
    "colab": {
      "name": "MaximumSubarray.ipynb",
      "provenance": [],
      "collapsed_sections": [],
      "authorship_tag": "ABX9TyPkU/0O6kZC6KVX3ZrYZEka",
      "include_colab_link": true
    },
    "kernelspec": {
      "name": "python3",
      "display_name": "Python 3"
    },
    "language_info": {
      "name": "python"
    }
  },
  "cells": [
    {
      "cell_type": "markdown",
      "metadata": {
        "id": "view-in-github",
        "colab_type": "text"
      },
      "source": [
        "<a href=\"https://colab.research.google.com/github/RishabhMehra/DSA_Assignment_Solutions/blob/main/Assignment_4/MaximumSubarray.ipynb\" target=\"_parent\"><img src=\"https://colab.research.google.com/assets/colab-badge.svg\" alt=\"Open In Colab\"/></a>"
      ]
    },
    {
      "cell_type": "code",
      "metadata": {
        "id": "7XMbc7pTDw5l"
      },
      "source": [
        "class Solution:\n",
        "    def combine_arr(self,arr,l,m,r):\n",
        "        sum1 = 0\n",
        "        Left_sum = float('-inf') ##Initialize min weights to left and right sum\n",
        "        for i in range(m,l-1,-1):\n",
        "          #print(f'Left i :{i} ___ {arr[i]}')\n",
        "          sum1+=arr[i]\n",
        "          if(sum1 > Left_sum): Left_sum=sum1 ##if sum of elements in left array >current sum then swap\n",
        "           \n",
        "        sum1 =0\n",
        "        Right_sum =float('-inf')\n",
        "        for j in range(m+1,r+1):\n",
        "            sum1+=arr[j]\n",
        "            if(sum1 > Right_sum): Right_sum=sum1\n",
        "        #print(f'Left -> {Left_sum}')\n",
        "        #print(f'Right -> {Right_sum}')\n",
        "        #print(f'Total ->{Left_sum+Right_sum}')\n",
        "        return max(Left_sum,Right_sum,Left_sum+Right_sum)\n",
        "    \n",
        "    def maxarray(self,arr,l,r):\n",
        "      #print(f'{l} ---{r}')\n",
        "      if l==r:\n",
        "          return arr[l]\n",
        "      while l<r:\n",
        "          m = (l + r) //2\n",
        "          Left_sum = self.maxarray(arr,l,m)\n",
        "          Right_sum = self.maxarray(arr,m+1,r)\n",
        "          return max(Left_sum,Right_sum,self.combine_arr(arr,l,m,r))"
      ],
      "execution_count": 11,
      "outputs": []
    },
    {
      "cell_type": "code",
      "metadata": {
        "colab": {
          "base_uri": "https://localhost:8080/"
        },
        "id": "tYG3Qhd-DzqE",
        "outputId": "1d39316b-76db-40bc-eb31-58a8c95356c2"
      },
      "source": [
        "#Driver\n",
        "sol =Solution()\n",
        "k= int(input())\n",
        "for i in range(k):\n",
        "  size = int(input())\n",
        "  arr=[]*size\n",
        "  arr = list(map(int,input().split()))\n",
        "  print(sol.maxarray(arr,0,len(arr)-1))\n",
        "\n",
        "\n",
        "\n",
        "\n",
        "\n",
        "#1\n",
        "#8\n",
        "#-2 -5 6 -2 -3 1 5 -6"
      ],
      "execution_count": 12,
      "outputs": [
        {
          "output_type": "stream",
          "text": [
            "1\n",
            "8\n",
            "-2 -5 6  -2  -3 1 5 -6\n",
            "7\n"
          ],
          "name": "stdout"
        }
      ]
    },
    {
      "cell_type": "code",
      "metadata": {
        "id": "Twe2vV6GYpgo"
      },
      "source": [
        ""
      ],
      "execution_count": null,
      "outputs": []
    }
  ]
}