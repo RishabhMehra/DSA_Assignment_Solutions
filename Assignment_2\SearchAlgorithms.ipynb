{
  "nbformat": 4,
  "nbformat_minor": 0,
  "metadata": {
    "colab": {
      "name": " SearchAlgorithms.ipynb",
      "provenance": [],
      "collapsed_sections": [],
      "include_colab_link": true
    },
    "kernelspec": {
      "name": "python3",
      "display_name": "Python 3"
    },
    "language_info": {
      "name": "python"
    }
  },
  "cells": [
    {
      "cell_type": "markdown",
      "metadata": {
        "id": "view-in-github",
        "colab_type": "text"
      },
      "source": [
        "<a href=\"https://colab.research.google.com/github/RishabhMehra/DSA_Assignment_Solutions/blob/main/Assignment_2%5CSearchAlgorithms.ipynb\" target=\"_parent\"><img src=\"https://colab.research.google.com/assets/colab-badge.svg\" alt=\"Open In Colab\"/></a>"
      ]
    },
    {
      "cell_type": "markdown",
      "metadata": {
        "id": "vs4GA1mTgqqw"
      },
      "source": [
        "##### **Assignment Problem :** \n",
        "input : Sorted array of n distinct elements which are integers\n",
        "\n",
        "output : Find any element in an array such that an array element and it's corresponding index is same meaning array[i] = i.\n",
        "\n",
        "Write an optimised code with its time complexity for above problem statement."
      ]
    },
    {
      "cell_type": "code",
      "metadata": {
        "id": "Fja2TNJfXjmb"
      },
      "source": [
        "def bs(arr,low,high):\n",
        "  if (low == high):                                  ##Small Problem -> O(1) \n",
        "    if (arr[low] == low):\n",
        "      return low\n",
        "    else:\n",
        "      return -1                                     ## Element is not present in an array\n",
        "  # Big Problem -> Use Divide and Conquer Algorithm\n",
        "  else:\n",
        "    mid = low + (high - low)//2                       ## Divide -> O(1)\n",
        "    \n",
        "    if (arr[mid] == mid):   \n",
        "      return mid                                                                                   \n",
        "    elif (arr[mid] > mid):\n",
        "      return bs(arr,mid+1,high)           ## Conquer -> Recursive Call -> T(n/2)\n",
        "    else:\n",
        "      return bs(arr,low,mid-1) "
      ],
      "execution_count": null,
      "outputs": []
    },
    {
      "cell_type": "markdown",
      "metadata": {
        "id": "MbxfqKs7PnsD"
      },
      "source": [
        "##Recursive relation : T(n) = T(n/2) +const\n",
        "\n",
        "##Solving equation we get T(n) ->  O(logn)"
      ]
    },
    {
      "cell_type": "code",
      "metadata": {
        "colab": {
          "base_uri": "https://localhost:8080/"
        },
        "id": "WaPhdZLReTBJ",
        "outputId": "1a79a1b0-c117-4c14-d85c-fa05b036935d"
      },
      "source": [
        "arr1 = [2,5,5,6,6,6,7,7,9]\n",
        "n  = len(arr1)-1\n",
        "pos = bs(arr1,0,n)\n",
        "print(pos)"
      ],
      "execution_count": null,
      "outputs": [
        {
          "output_type": "stream",
          "text": [
            "7\n"
          ],
          "name": "stdout"
        }
      ]
    },
    {
      "cell_type": "code",
      "metadata": {
        "id": "nfb2iwXMen_9"
      },
      "source": [
        ""
      ],
      "execution_count": null,
      "outputs": []
    }
  ]
}