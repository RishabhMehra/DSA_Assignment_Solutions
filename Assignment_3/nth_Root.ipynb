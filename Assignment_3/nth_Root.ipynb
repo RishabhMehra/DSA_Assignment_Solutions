{
  "nbformat": 4,
  "nbformat_minor": 0,
  "metadata": {
    "colab": {
      "name": "nth Root.ipynb",
      "provenance": [],
      "collapsed_sections": [],
      "authorship_tag": "ABX9TyM3bQqNY5L6gvvp8Afb2ti1",
      "include_colab_link": true
    },
    "kernelspec": {
      "name": "python3",
      "display_name": "Python 3"
    },
    "language_info": {
      "name": "python"
    }
  },
  "cells": [
    {
      "cell_type": "markdown",
      "metadata": {
        "id": "view-in-github",
        "colab_type": "text"
      },
      "source": [
        "<a href=\"https://colab.research.google.com/github/RishabhMehra/DSA_Assignment_Solutions/blob/main/Assignment_3/nth_Root.ipynb\" target=\"_parent\"><img src=\"https://colab.research.google.com/assets/colab-badge.svg\" alt=\"Open In Colab\"/></a>"
      ]
    },
    {
      "cell_type": "code",
      "metadata": {
        "id": "mwpKdR0AQZZl"
      },
      "source": [
        "class solution:\n",
        "  def multiply(self,num,mult): #To calculate nth power of number\n",
        "    mul =1                     #Time Complexity -O(n)\n",
        "    for i in range(mult):\n",
        "      mul= mul*num\n",
        "    #print(mul)\n",
        "    return mul\n",
        "  def nroot(self,a,n ): \n",
        "    low = 1              #Using Binary Search as sequence is in sorted manner\n",
        "    high = a             #Defining a precission value as 0.0001 \n",
        "    while(high-low >=0.001):         # Total complexity is n * Log(n)\n",
        "      mid = (high+low)/2\n",
        "      if (self.multiply(mid,n)< a):  \n",
        "        low = mid\n",
        "      else :\n",
        "        high = mid\n",
        "    return high"
      ],
      "execution_count": 1,
      "outputs": []
    },
    {
      "cell_type": "code",
      "metadata": {
        "colab": {
          "base_uri": "https://localhost:8080/"
        },
        "id": "7NDLfBtoSJSC",
        "outputId": "31733346-9d96-4659-89a6-d580211e58f9"
      },
      "source": [
        "sol =solution()\n",
        "print(sol.nroot(125,3))"
      ],
      "execution_count": 2,
      "outputs": [
        {
          "output_type": "stream",
          "text": [
            "5.000823974609375\n"
          ],
          "name": "stdout"
        }
      ]
    },
    {
      "cell_type": "code",
      "metadata": {
        "colab": {
          "base_uri": "https://localhost:8080/"
        },
        "id": "HAXGqUM1TQaD",
        "outputId": "d4aa6e4b-1f8e-4af1-f14a-52287cb6740a"
      },
      "source": [
        "#Driver code\n",
        "\n",
        "pairs = input()\n",
        "result = []\n",
        "for i in range (int(pairs)):\n",
        "  x,y = map(int,input().split())\n",
        "  result.append(round(sol.nroot(x,y)))\n",
        "for x in result: print(x)"
      ],
      "execution_count": 3,
      "outputs": [
        {
          "output_type": "stream",
          "text": [
            "3\n",
            "64 5\n",
            "125 3\n",
            "87 4\n",
            "2\n",
            "5\n",
            "3\n"
          ],
          "name": "stdout"
        }
      ]
    },
    {
      "cell_type": "code",
      "metadata": {
        "colab": {
          "base_uri": "https://localhost:8080/"
        },
        "id": "9vIvDF_YVetO",
        "outputId": "b89bfeb9-6e89-4175-92b2-5f937cd3ff68"
      },
      "source": [
        ""
      ],
      "execution_count": null,
      "outputs": [
        {
          "output_type": "stream",
          "text": [
            "2.297\n",
            "4.0\n",
            "5.0\n"
          ],
          "name": "stdout"
        }
      ]
    },
    {
      "cell_type": "code",
      "metadata": {
        "id": "I0vnJZKZW4pA"
      },
      "source": [
        ""
      ],
      "execution_count": null,
      "outputs": []
    }
  ]
}