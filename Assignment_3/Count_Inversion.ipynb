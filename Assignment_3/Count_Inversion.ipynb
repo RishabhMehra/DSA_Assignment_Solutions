{
  "nbformat": 4,
  "nbformat_minor": 0,
  "metadata": {
    "colab": {
      "name": "Inversion_array.ipynb",
      "provenance": [],
      "collapsed_sections": [],
      "authorship_tag": "ABX9TyMryYdQXdkQZAPnRzSv06OR",
      "include_colab_link": true
    },
    "kernelspec": {
      "name": "python3",
      "display_name": "Python 3"
    },
    "language_info": {
      "name": "python"
    }
  },
  "cells": [
    {
      "cell_type": "markdown",
      "metadata": {
        "id": "view-in-github",
        "colab_type": "text"
      },
      "source": [
        "<a href=\"https://colab.research.google.com/github/RishabhMehra/DSA_Assignment_Solutions/blob/main/Inversion_array.ipynb\" target=\"_parent\"><img src=\"https://colab.research.google.com/assets/colab-badge.svg\" alt=\"Open In Colab\"/></a>"
      ]
    },
    {
      "cell_type": "code",
      "metadata": {
        "id": "rx2qHo2To8Qi"
      },
      "source": [
        "def _merge(arr,n):\n",
        "    temp = [0] *n\n",
        "    return Mergesort(arr,temp,0,n-1)\n",
        "\n",
        "def Merge(arr,temp,l,mid,r):\n",
        "    k = l\n",
        "    i,j = l,mid+1\n",
        "    \n",
        "    swaps=0\n",
        "  \n",
        "    \n",
        "    \n",
        "    while (i<=mid and j<=r):\n",
        "        if (arr[i]<=arr[j]):\n",
        "            temp[k] = arr[i]\n",
        "            i=i+1\n",
        "            k=k+1\n",
        "            \n",
        "        else:\n",
        "            temp[k] = arr[j]\n",
        "            swaps += (mid+1) -(i)  # Counting number of time R > L in Array\n",
        "            j=j+1\n",
        "            k=k+1\n",
        "            \n",
        "    \n",
        "    \n",
        "    while(i<=mid):\n",
        "        temp[k] = arr[i]\n",
        "        i=i+1\n",
        "        k=k+1\n",
        "    \n",
        "    while(j<=r):\n",
        "        temp[k]=arr[j]\n",
        "        k=k+1\n",
        "        j=j+1\n",
        "    \n",
        "    for loop_var in range(l, r + 1):\n",
        "        arr[loop_var] = temp[loop_var]\n",
        "    \n",
        "    \n",
        "    return swaps\n",
        "def Mergesort(arr,temp,l,r):\n",
        "    count =0\n",
        "    if(l<r):\n",
        "        mid=l+(r-l)//2\n",
        "        count=Mergesort(arr,temp,l,mid) #Complexity O(log n )\n",
        "        count+=Mergesort(arr,temp,mid+1,r)\n",
        "        count+=Merge(arr,temp,l, mid,r)\n",
        "    \n",
        "    return count"
      ],
      "execution_count": 1,
      "outputs": []
    },
    {
      "cell_type": "code",
      "metadata": {
        "colab": {
          "base_uri": "https://localhost:8080/"
        },
        "id": "QfJ0D-YJpe4m",
        "outputId": "15c505d6-23d8-4f16-e877-0559ff7f49a2"
      },
      "source": [
        "n = input()\n",
        "arr =[]\n",
        "for i in input().split(): arr.append(int(i))\n",
        "val =_merge(arr,len(arr))\n",
        "\n",
        "print(val)"
      ],
      "execution_count": 10,
      "outputs": [
        {
          "output_type": "stream",
          "text": [
            "5\n",
            "3 8 0 -4 1\n",
            "7\n"
          ],
          "name": "stdout"
        }
      ]
    },
    {
      "cell_type": "code",
      "metadata": {
        "id": "kPy4j1Espv0b"
      },
      "source": [
        "3"
      ],
      "execution_count": null,
      "outputs": []
    }
  ]
}
